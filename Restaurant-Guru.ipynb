{
 "cells": [
  {
   "cell_type": "markdown",
   "id": "266b833a",
   "metadata": {},
   "source": [
    "# <font color=green>Restaurant-Guru"
   ]
  },
  {
   "cell_type": "markdown",
   "id": "082ad255",
   "metadata": {},
   "source": [
    "> Este projeto tem como finalidade testar os conhecimentos que obtive completando a formação \"Python para Data Science\" da plataforma Alura. Aqui irei testar meus conhecimentos acerca de Web Scrapping e EDA (Exploratory Data Analysis).\n",
    "\n",
    "<h4>Ideia Central:</h4> \n",
    "\n",
    "> A ideia do projeto é fazer um Web Scrapping do site https://restaurantguru.com.br/ e conseguir extrair informações valiosas por meio da análise de dados, gráficos e etc.\n",
    "\n",
    "<h4>Sobre o site:</h4> \n",
    "\n",
    "> Restaurant Guru é um wiki+metasearch para restaurantes. Eles fornecem aos usuários informações completas sobre restaurantes como: avaliações dos visitantes, cardápios, fotos, etc. O principal objetivo do site é ajudar pessoas a escolherem o lugar certo para comer, seja em sua cidade ou durante sua viagem."
   ]
  },
  {
   "cell_type": "markdown",
   "id": "54dea15a",
   "metadata": {},
   "source": [
    "## <font color=blue>Importando Bibliotecas"
   ]
  },
  {
   "cell_type": "markdown",
   "id": "74c417c6",
   "metadata": {},
   "source": [
    "> Neste passo iremos importar todas as bibliotecas que iremos utilizar nesse projeto"
   ]
  },
  {
   "cell_type": "code",
   "execution_count": 1,
   "id": "ddf6d7db",
   "metadata": {},
   "outputs": [],
   "source": [
    "import pandas as pd\n",
    "import seaborn as sns\n",
    "import matplotlib.pyplot as plt\n",
    "from urllib.request import urlopen, urlretrieve, Request\n",
    "from urllib.error import URLError, HTTPError\n",
    "from bs4 import BeautifulSoup"
   ]
  },
  {
   "cell_type": "markdown",
   "id": "1cf75fae",
   "metadata": {},
   "source": [
    "## <font color=blue>Web Scrapping"
   ]
  },
  {
   "cell_type": "markdown",
   "id": "b23931e9",
   "metadata": {},
   "source": [
    "<img src='img/extrair.png'>"
   ]
  },
  {
   "cell_type": "markdown",
   "id": "f5fe556c",
   "metadata": {},
   "source": [
    "A imagem acima mostra os campos que iremos extrair do site. Vamos obter o **nome**, a **localização**, o **tipo de comida**, as **avaliações** e o **valor** de cada restaurante."
   ]
  },
  {
   "cell_type": "markdown",
   "id": "156e9866",
   "metadata": {},
   "source": [
    "#### Configurações básicas - Obtenção de URL"
   ]
  },
  {
   "cell_type": "code",
   "execution_count": 2,
   "id": "8e6805ae",
   "metadata": {},
   "outputs": [],
   "source": [
    "url = 'https://restaurantguru.com.br/restaurant-Brazil-t1'\n",
    "headers = {'user-agent': 'Mozilla/5.0 (Windows NT 10.0; Win64; x64) AppleWebKit/537.36 (KHTML, like Gecko) Chrome/104.0.0.0 Safari/537.36'}\n",
    "\n",
    "req = Request(url, headers = headers)\n",
    "response = urlopen(req)\n",
    "html = response.read()"
   ]
  },
  {
   "cell_type": "markdown",
   "id": "8952555c",
   "metadata": {},
   "source": [
    "#### Configurações básicas - Tratamento do HTML\n",
    "\n"
   ]
  },
  {
   "cell_type": "markdown",
   "id": "5aca69af",
   "metadata": {},
   "source": [
    "> O tipo da variável *html* é **bytes**, executando o comando *html.decode('utf-8')* irei corrigir a acentuação de palavras e converter essa variável para **str**."
   ]
  },
  {
   "cell_type": "code",
   "execution_count": 3,
   "id": "4b37ad16",
   "metadata": {},
   "outputs": [
    {
     "data": {
      "text/plain": [
       "bytes"
      ]
     },
     "execution_count": 3,
     "metadata": {},
     "output_type": "execute_result"
    }
   ],
   "source": [
    "type(html)"
   ]
  },
  {
   "cell_type": "code",
   "execution_count": 4,
   "id": "b347bcbe",
   "metadata": {},
   "outputs": [],
   "source": [
    "html = html.decode('utf-8')"
   ]
  },
  {
   "cell_type": "code",
   "execution_count": 5,
   "id": "3cf87453",
   "metadata": {},
   "outputs": [
    {
     "data": {
      "text/plain": [
       "str"
      ]
     },
     "execution_count": 5,
     "metadata": {},
     "output_type": "execute_result"
    }
   ],
   "source": [
    "type(html)"
   ]
  },
  {
   "cell_type": "markdown",
   "id": "5129040f",
   "metadata": {},
   "source": [
    ">Elaboração de uma função para eliminar os caracteres de tabulação, quebra de linha e espaçamento entre TAGS. Após isso, foi aplicado a variável *html* para ser tratada."
   ]
  },
  {
   "cell_type": "code",
   "execution_count": 6,
   "id": "a055a0f3",
   "metadata": {
    "scrolled": true
   },
   "outputs": [],
   "source": [
    "def trata_html(input):\n",
    "    return \" \".join(html.split()).replace('> <', '><')"
   ]
  },
  {
   "cell_type": "code",
   "execution_count": 7,
   "id": "81d2f352",
   "metadata": {},
   "outputs": [],
   "source": [
    "html = trata_html(html)"
   ]
  },
  {
   "cell_type": "markdown",
   "id": "a0485e59",
   "metadata": {},
   "source": [
    "#### Criando um objeto BeautifulSoup"
   ]
  },
  {
   "cell_type": "code",
   "execution_count": 8,
   "id": "343eb6ec",
   "metadata": {},
   "outputs": [],
   "source": [
    "soup = BeautifulSoup(html, 'html.parser')"
   ]
  },
  {
   "cell_type": "code",
   "execution_count": 9,
   "id": "b58ddb8b",
   "metadata": {},
   "outputs": [
    {
     "data": {
      "text/plain": [
       "bs4.BeautifulSoup"
      ]
     },
     "execution_count": 9,
     "metadata": {},
     "output_type": "execute_result"
    }
   ],
   "source": [
    "type(soup)"
   ]
  },
  {
   "cell_type": "markdown",
   "id": "eb8ff68e",
   "metadata": {},
   "source": [
    "#### Criando variávels para armazenar informações"
   ]
  },
  {
   "cell_type": "code",
   "execution_count": 10,
   "id": "c1f3707e",
   "metadata": {},
   "outputs": [],
   "source": [
    "cards = []\n",
    "card = {}"
   ]
  },
  {
   "cell_type": "markdown",
   "id": "23a91e48",
   "metadata": {},
   "source": [
    "### <font color=#3498DB>Obtendo os dados do primeiro CARD"
   ]
  },
  {
   "cell_type": "code",
   "execution_count": 11,
   "id": "8e2fa889",
   "metadata": {},
   "outputs": [],
   "source": [
    "anuncio = soup.find('div', {'class': 'restaurant_row show'})"
   ]
  },
  {
   "cell_type": "markdown",
   "id": "5b80f831",
   "metadata": {},
   "source": [
    "**Obtendo o <font color=red>NOME</font> do estabelecimento:**"
   ]
  },
  {
   "cell_type": "code",
   "execution_count": 12,
   "id": "753a85ca",
   "metadata": {},
   "outputs": [
    {
     "data": {
      "text/plain": [
       "'Figueira Rubayat / Restaurante, Churrascaria'"
      ]
     },
     "execution_count": 12,
     "metadata": {},
     "output_type": "execute_result"
    }
   ],
   "source": [
    "# Obtendo o título\n",
    "nome = anuncio.find('div', {'class': 'title'}).get_text()\n",
    "nome"
   ]
  },
  {
   "cell_type": "code",
   "execution_count": 13,
   "id": "d4b6586d",
   "metadata": {},
   "outputs": [
    {
     "data": {
      "text/plain": [
       "'Figueira Rubayat'"
      ]
     },
     "execution_count": 13,
     "metadata": {},
     "output_type": "execute_result"
    }
   ],
   "source": [
    "# Removendo o subtítulo\n",
    "nome = nome.split(' /')[0]\n",
    "nome"
   ]
  },
  {
   "cell_type": "markdown",
   "id": "b62f9a67",
   "metadata": {},
   "source": [
    "#### <font color=red> Resumo:"
   ]
  },
  {
   "cell_type": "code",
   "execution_count": 14,
   "id": "4d38e1cc",
   "metadata": {},
   "outputs": [],
   "source": [
    "card['nome'] = nome"
   ]
  },
  {
   "cell_type": "markdown",
   "id": "5f34e0b7",
   "metadata": {},
   "source": [
    "**Obtendo o <font color=red>LOCALIZAÇÃO</font> do estabelecimento:**"
   ]
  },
  {
   "cell_type": "code",
   "execution_count": 15,
   "id": "34a05918",
   "metadata": {},
   "outputs": [
    {
     "data": {
      "text/plain": [
       "'#1 de 153705 lugar para comer em São Paulo'"
      ]
     },
     "execution_count": 15,
     "metadata": {},
     "output_type": "execute_result"
    }
   ],
   "source": [
    "local = anuncio.find('div', {'class': 'number'}).get_text()\n",
    "local"
   ]
  },
  {
   "cell_type": "code",
   "execution_count": 16,
   "id": "627fdf81",
   "metadata": {},
   "outputs": [
    {
     "data": {
      "text/plain": [
       "['#1', 'de', '153705', 'lugar', 'para', 'comer', 'em', 'São', 'Paulo']"
      ]
     },
     "execution_count": 16,
     "metadata": {},
     "output_type": "execute_result"
    }
   ],
   "source": [
    "local = local.split()\n",
    "local"
   ]
  },
  {
   "cell_type": "code",
   "execution_count": 17,
   "id": "2241a76d",
   "metadata": {},
   "outputs": [
    {
     "data": {
      "text/plain": [
       "['São', 'Paulo']"
      ]
     },
     "execution_count": 17,
     "metadata": {},
     "output_type": "execute_result"
    }
   ],
   "source": [
    "local = local[7:]\n",
    "local"
   ]
  },
  {
   "cell_type": "code",
   "execution_count": 18,
   "id": "5e790f05",
   "metadata": {},
   "outputs": [
    {
     "data": {
      "text/plain": [
       "['São Paulo']"
      ]
     },
     "execution_count": 18,
     "metadata": {},
     "output_type": "execute_result"
    }
   ],
   "source": [
    "local = [' '.join(local)]\n",
    "local"
   ]
  },
  {
   "cell_type": "markdown",
   "id": "59bd4a82",
   "metadata": {},
   "source": [
    "#### <font color=red> Resumo:"
   ]
  },
  {
   "cell_type": "code",
   "execution_count": 19,
   "id": "8460fbcc",
   "metadata": {},
   "outputs": [],
   "source": [
    "card['local'] = local"
   ]
  },
  {
   "cell_type": "code",
   "execution_count": 20,
   "id": "868c7b58",
   "metadata": {},
   "outputs": [
    {
     "data": {
      "text/plain": [
       "{'nome': 'Figueira Rubayat', 'local': ['São Paulo']}"
      ]
     },
     "execution_count": 20,
     "metadata": {},
     "output_type": "execute_result"
    }
   ],
   "source": [
    "card"
   ]
  },
  {
   "cell_type": "markdown",
   "id": "9a6cd08b",
   "metadata": {},
   "source": [
    "**Obtendo o <font color=red>TIPOS DE COMIDA</font> do estabelecimento:**"
   ]
  },
  {
   "cell_type": "code",
   "execution_count": 21,
   "id": "c2298b6f",
   "metadata": {},
   "outputs": [
    {
     "data": {
      "text/plain": [
       "'Brasileira, Argentina, Grelhada, Churrascarias'"
      ]
     },
     "execution_count": 21,
     "metadata": {},
     "output_type": "execute_result"
    }
   ],
   "source": [
    "comida = anuncio.find('div', {'class': 'info cuisine'}).get_text()\n",
    "comida"
   ]
  },
  {
   "cell_type": "code",
   "execution_count": 22,
   "id": "a348b988",
   "metadata": {},
   "outputs": [
    {
     "data": {
      "text/plain": [
       "['Brasileira', 'Argentina', 'Grelhada', 'Churrascarias']"
      ]
     },
     "execution_count": 22,
     "metadata": {},
     "output_type": "execute_result"
    }
   ],
   "source": [
    "comida = comida.split(', ')\n",
    "comida"
   ]
  },
  {
   "cell_type": "markdown",
   "id": "49aae493",
   "metadata": {},
   "source": [
    "#### <font color=red> Resumo:"
   ]
  },
  {
   "cell_type": "code",
   "execution_count": 23,
   "id": "9f0166a7",
   "metadata": {},
   "outputs": [],
   "source": [
    "card['comida'] = comida"
   ]
  },
  {
   "cell_type": "markdown",
   "id": "3596b1ea",
   "metadata": {},
   "source": [
    "**Obtendo o <font color=red>VALOR</font> do estabelecimento:**"
   ]
  },
  {
   "cell_type": "code",
   "execution_count": 24,
   "id": "6d813d40",
   "metadata": {},
   "outputs": [
    {
     "data": {
      "text/plain": [
       "'$$$$'"
      ]
     },
     "execution_count": 24,
     "metadata": {},
     "output_type": "execute_result"
    }
   ],
   "source": [
    "valor = anuncio.find('span', {'class': 'cost'}).get_text()\n",
    "valor"
   ]
  },
  {
   "cell_type": "markdown",
   "id": "33b828f6",
   "metadata": {},
   "source": [
    "#### <font color=red> Resumo:"
   ]
  },
  {
   "cell_type": "code",
   "execution_count": 25,
   "id": "9864366b",
   "metadata": {},
   "outputs": [],
   "source": [
    "if valor == '$$$$':\n",
    "    card['valor'] = 'Muito Caro'\n",
    "elif valor == '$$$':\n",
    "    card['valor'] = 'Caro'\n",
    "elif valor == '$$':\n",
    "    card['valor'] = 'Moderado'\n",
    "elif valor == '$':\n",
    "    card['valor'] = 'Barato'\n",
    "else:\n",
    "    card['valor'] = 0"
   ]
  },
  {
   "cell_type": "markdown",
   "id": "b962d027",
   "metadata": {},
   "source": [
    "**Obtendo o <font color=red>AVALIAÇÃO</font> do estabelecimento:**"
   ]
  }
 ],
 "metadata": {
  "kernelspec": {
   "display_name": "Python 3 (ipykernel)",
   "language": "python",
   "name": "python3"
  },
  "language_info": {
   "codemirror_mode": {
    "name": "ipython",
    "version": 3
   },
   "file_extension": ".py",
   "mimetype": "text/x-python",
   "name": "python",
   "nbconvert_exporter": "python",
   "pygments_lexer": "ipython3",
   "version": "3.9.12"
  }
 },
 "nbformat": 4,
 "nbformat_minor": 5
}
