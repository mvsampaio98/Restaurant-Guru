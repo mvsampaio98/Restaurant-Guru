{
 "cells": [
  {
   "cell_type": "markdown",
   "id": "aa0c17d9",
   "metadata": {},
   "source": [
    "# Restaurant-Guru"
   ]
  },
  {
   "cell_type": "markdown",
   "id": "bef8b913",
   "metadata": {},
   "source": [
    "> Este projeto tem como finalidade testar os conhecimentos que obtive completando a formação \"Python para Data Science\" da plataforma Alura. Aqui irei testar meus conhecimentos acerca de Web Scrapping e EDA (Exploratory Data Analysis).\n",
    "\n",
    "<h4>Ideia Central:</h4> \n",
    "\n",
    "> A ideia do projeto é fazer um Web Scrapping do site https://restaurantguru.com.br/ e conseguir extrair informações valiosas por meio da análise de dados, gráficos e etc.\n",
    "\n",
    "<h4>Sobre o site:</h4> \n",
    "\n",
    "> Restaurant Guru é um wiki+metasearch para restaurantes. Eles fornecem aos usuários informações completas sobre restaurantes como: avaliações dos visitantes, cardápios, fotos, etc. O principal objetivo do site é ajudar pessoas a escolherem o lugar certo para comer, seja em sua cidade ou durante sua viagem."
   ]
  },
  {
   "cell_type": "markdown",
   "id": "7a50f6a9",
   "metadata": {},
   "source": [
    "### Importando Bibliotecas"
   ]
  },
  {
   "cell_type": "markdown",
   "id": "d0f9e6f8",
   "metadata": {},
   "source": [
    "> Neste passo iremos importar todas as bibliotecas que iremos utilizar nesse projeto"
   ]
  },
  {
   "cell_type": "code",
   "execution_count": 1,
   "id": "a038360e",
   "metadata": {},
   "outputs": [],
   "source": [
    "import pandas as pd\n",
    "import seaborn as sns\n",
    "import matplotlib.pyplot as plt\n",
    "from urllib.request import urlopen, urlretrieve\n",
    "from bs4 import BeautifulSoup"
   ]
  }
 ],
 "metadata": {
  "kernelspec": {
   "display_name": "Python 3 (ipykernel)",
   "language": "python",
   "name": "python3"
  },
  "language_info": {
   "codemirror_mode": {
    "name": "ipython",
    "version": 3
   },
   "file_extension": ".py",
   "mimetype": "text/x-python",
   "name": "python",
   "nbconvert_exporter": "python",
   "pygments_lexer": "ipython3",
   "version": "3.9.12"
  }
 },
 "nbformat": 4,
 "nbformat_minor": 5
}
