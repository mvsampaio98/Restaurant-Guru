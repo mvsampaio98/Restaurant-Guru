{
 "cells": [
  {
   "cell_type": "markdown",
   "id": "266b833a",
   "metadata": {},
   "source": [
    "# <font color=green>Restaurant-Guru"
   ]
  },
  {
   "cell_type": "markdown",
   "id": "082ad255",
   "metadata": {},
   "source": [
    "> Este projeto tem como finalidade testar os conhecimentos que obtive completando a formação \"Python para Data Science\" da plataforma Alura. Aqui irei testar meus conhecimentos acerca de Web Scrapping e EDA (Exploratory Data Analysis).\n",
    "\n",
    "<h4>Ideia Central:</h4> \n",
    "\n",
    "> A ideia do projeto é fazer um Web Scrapping do site https://restaurantguru.com.br/ e conseguir extrair informações valiosas por meio da análise de dados, gráficos e etc.\n",
    "\n",
    "<h4>Sobre o site:</h4> \n",
    "\n",
    "> Restaurant Guru é um wiki+metasearch para restaurantes. Eles fornecem aos usuários informações completas sobre restaurantes como: avaliações dos visitantes, cardápios, fotos, etc. O principal objetivo do site é ajudar pessoas a escolherem o lugar certo para comer, seja em sua cidade ou durante sua viagem."
   ]
  },
  {
   "cell_type": "markdown",
   "id": "54dea15a",
   "metadata": {},
   "source": [
    "## <font color=blue>Importando Bibliotecas"
   ]
  },
  {
   "cell_type": "markdown",
   "id": "74c417c6",
   "metadata": {},
   "source": [
    "> Neste passo iremos importar todas as bibliotecas que iremos utilizar nesse projeto"
   ]
  },
  {
   "cell_type": "code",
   "execution_count": 1,
   "id": "430e650e",
   "metadata": {},
   "outputs": [],
   "source": [
    "import pandas as pd\n",
    "import seaborn as sns\n",
    "import matplotlib.pyplot as plt\n",
    "from urllib.request import urlopen, urlretrieve, Request\n",
    "from urllib.error import URLError, HTTPError\n",
    "from bs4 import BeautifulSoup"
   ]
  },
  {
   "cell_type": "markdown",
   "id": "1cf75fae",
   "metadata": {},
   "source": [
    "## <font color=blue>Web Scrapping"
   ]
  },
  {
   "cell_type": "markdown",
   "id": "b23931e9",
   "metadata": {},
   "source": [
    "<img src='img/extrair.png'>"
   ]
  },
  {
   "cell_type": "markdown",
   "id": "f5fe556c",
   "metadata": {},
   "source": [
    "A imagem acima mostra os campos que iremos extrair do site. Vamos obter o **nome**, a **localização**, o **tipo de comida**, as **avaliações** e o **valor** de cada restaurante."
   ]
  },
  {
   "cell_type": "markdown",
   "id": "2f8767db",
   "metadata": {},
   "source": [
    "#### Configurações básicas - Obtenção de URL"
   ]
  },
  {
   "cell_type": "code",
   "execution_count": 2,
   "id": "19594db5",
   "metadata": {},
   "outputs": [],
   "source": [
    "url = 'https://restaurantguru.com.br/restaurant-Brazil-t1'\n",
    "headers = {'user-agent': 'Mozilla/5.0 (Windows NT 10.0; Win64; x64) AppleWebKit/537.36 (KHTML, like Gecko) Chrome/104.0.0.0 Safari/537.36'}\n",
    "\n",
    "req = Request(url, headers = headers)\n",
    "response = urlopen(req)\n",
    "html = response.read()"
   ]
  },
  {
   "cell_type": "markdown",
   "id": "427a07b7",
   "metadata": {},
   "source": [
    "#### Configurações básicas - Tratamento do HTML\n",
    "\n"
   ]
  },
  {
   "cell_type": "markdown",
   "id": "02593924",
   "metadata": {},
   "source": [
    "> O tipo da variável *html* é **bytes**, executando o comando *html.decode('utf-8')* irei corrigir a acentuação de palavras e converter essa variável para **str**."
   ]
  },
  {
   "cell_type": "code",
   "execution_count": 3,
   "id": "6335547b",
   "metadata": {},
   "outputs": [
    {
     "data": {
      "text/plain": [
       "bytes"
      ]
     },
     "execution_count": 3,
     "metadata": {},
     "output_type": "execute_result"
    }
   ],
   "source": [
    "type(html)"
   ]
  },
  {
   "cell_type": "code",
   "execution_count": 4,
   "id": "0a50d964",
   "metadata": {},
   "outputs": [],
   "source": [
    "html = html.decode('utf-8')"
   ]
  },
  {
   "cell_type": "code",
   "execution_count": 5,
   "id": "6248bc27",
   "metadata": {},
   "outputs": [
    {
     "data": {
      "text/plain": [
       "str"
      ]
     },
     "execution_count": 5,
     "metadata": {},
     "output_type": "execute_result"
    }
   ],
   "source": [
    "type(html)"
   ]
  },
  {
   "cell_type": "markdown",
   "id": "318734b1",
   "metadata": {},
   "source": [
    ">Elaboração de uma função para eliminar os caracteres de tabulação, quebra de linha e espaçamento entre TAGS. Após isso, foi aplicado a variável *html* para ser tratada."
   ]
  },
  {
   "cell_type": "code",
   "execution_count": 6,
   "id": "f6cffa28",
   "metadata": {
    "scrolled": true
   },
   "outputs": [],
   "source": [
    "def trata_html(input):\n",
    "    return \" \".join(html.split()).replace('> <', '><')"
   ]
  },
  {
   "cell_type": "code",
   "execution_count": 7,
   "id": "810a3132",
   "metadata": {},
   "outputs": [],
   "source": [
    "html = trata_html(html)"
   ]
  },
  {
   "cell_type": "markdown",
   "id": "3ed1ad20",
   "metadata": {},
   "source": [
    "#### Criando um objeto BeautifulSoup"
   ]
  },
  {
   "cell_type": "code",
   "execution_count": 8,
   "id": "c9aa9e71",
   "metadata": {},
   "outputs": [],
   "source": [
    "soup = BeautifulSoup(html, 'html.parser')"
   ]
  },
  {
   "cell_type": "code",
   "execution_count": 9,
   "id": "ddbb47cb",
   "metadata": {},
   "outputs": [
    {
     "data": {
      "text/plain": [
       "bs4.BeautifulSoup"
      ]
     },
     "execution_count": 9,
     "metadata": {},
     "output_type": "execute_result"
    }
   ],
   "source": [
    "type(soup)"
   ]
  },
  {
   "cell_type": "markdown",
   "id": "b2b95623",
   "metadata": {},
   "source": [
    "#### Criando variávels para armazenar informações"
   ]
  },
  {
   "cell_type": "code",
   "execution_count": 10,
   "id": "edabf080",
   "metadata": {},
   "outputs": [],
   "source": [
    "cards = []\n",
    "card = {}"
   ]
  },
  {
   "cell_type": "markdown",
   "id": "ed3efeea",
   "metadata": {},
   "source": [
    "### <font color=#3498DB>Obtendo os dados do primeiro CARD"
   ]
  },
  {
   "cell_type": "code",
   "execution_count": 11,
   "id": "84ba5ff3",
   "metadata": {},
   "outputs": [],
   "source": [
    "anuncio = soup.find('div', {'class': 'restaurant_row show'})"
   ]
  },
  {
   "cell_type": "markdown",
   "id": "98fb40bb",
   "metadata": {},
   "source": [
    "**Obtendo o <font color=red>NOME</font> do estabelecimento:**"
   ]
  },
  {
   "cell_type": "code",
   "execution_count": 12,
   "id": "bfb39177",
   "metadata": {},
   "outputs": [
    {
     "data": {
      "text/plain": [
       "'Figueira Rubayat / Restaurante, Churrascaria'"
      ]
     },
     "execution_count": 12,
     "metadata": {},
     "output_type": "execute_result"
    }
   ],
   "source": [
    "# Obtendo o título\n",
    "nome = anuncio.find('div', {'class': 'title'}).get_text()\n",
    "nome"
   ]
  },
  {
   "cell_type": "code",
   "execution_count": 13,
   "id": "647a06b2",
   "metadata": {},
   "outputs": [
    {
     "data": {
      "text/plain": [
       "'Figueira Rubayat'"
      ]
     },
     "execution_count": 13,
     "metadata": {},
     "output_type": "execute_result"
    }
   ],
   "source": [
    "# Removendo o subtítulo\n",
    "nome = nome.split(' /')[0]\n",
    "nome"
   ]
  },
  {
   "cell_type": "markdown",
   "id": "42405984",
   "metadata": {},
   "source": [
    "#### <font color=red> Resumo:"
   ]
  },
  {
   "cell_type": "code",
   "execution_count": 14,
   "id": "ee08200a",
   "metadata": {},
   "outputs": [],
   "source": [
    "card['nome'] = nome"
   ]
  },
  {
   "cell_type": "markdown",
   "id": "275d2114",
   "metadata": {},
   "source": [
    "**Obtendo o <font color=red>LOCALIZAÇÃO</font> do estabelecimento:**"
   ]
  },
  {
   "cell_type": "code",
   "execution_count": 22,
   "id": "7f24dc36",
   "metadata": {},
   "outputs": [
    {
     "data": {
      "text/plain": [
       "'#1 de 153705 lugar para comer em São Paulo'"
      ]
     },
     "execution_count": 22,
     "metadata": {},
     "output_type": "execute_result"
    }
   ],
   "source": [
    "local = anuncio.find('div', {'class': 'number'}).get_text()\n",
    "local"
   ]
  },
  {
   "cell_type": "code",
   "execution_count": 23,
   "id": "ea9d9a05",
   "metadata": {},
   "outputs": [
    {
     "data": {
      "text/plain": [
       "['#1', 'de', '153705', 'lugar', 'para', 'comer', 'em', 'São', 'Paulo']"
      ]
     },
     "execution_count": 23,
     "metadata": {},
     "output_type": "execute_result"
    }
   ],
   "source": [
    "local = local.split()\n",
    "local"
   ]
  },
  {
   "cell_type": "code",
   "execution_count": 24,
   "id": "79ad6457",
   "metadata": {},
   "outputs": [
    {
     "data": {
      "text/plain": [
       "['São', 'Paulo']"
      ]
     },
     "execution_count": 24,
     "metadata": {},
     "output_type": "execute_result"
    }
   ],
   "source": [
    "local = local[7:]\n",
    "local"
   ]
  },
  {
   "cell_type": "code",
   "execution_count": 25,
   "id": "19dbf7de",
   "metadata": {},
   "outputs": [
    {
     "data": {
      "text/plain": [
       "['São Paulo']"
      ]
     },
     "execution_count": 25,
     "metadata": {},
     "output_type": "execute_result"
    }
   ],
   "source": [
    "local = [' '.join(local)]\n",
    "local"
   ]
  },
  {
   "cell_type": "markdown",
   "id": "93b63b73",
   "metadata": {},
   "source": [
    "#### <font color=red> Resumo:"
   ]
  },
  {
   "cell_type": "code",
   "execution_count": 27,
   "id": "8ee89b94",
   "metadata": {},
   "outputs": [],
   "source": [
    "card['local'] = local"
   ]
  },
  {
   "cell_type": "code",
   "execution_count": 28,
   "id": "c224688c",
   "metadata": {},
   "outputs": [
    {
     "data": {
      "text/plain": [
       "{'nome': 'Figueira Rubayat', 'local': ['São Paulo']}"
      ]
     },
     "execution_count": 28,
     "metadata": {},
     "output_type": "execute_result"
    }
   ],
   "source": [
    "card"
   ]
  },
  {
   "cell_type": "markdown",
   "id": "73c0e9f9",
   "metadata": {},
   "source": [
    "**Obtendo o <font color=red>TIPOS DE COMIDA</font> do estabelecimento:**"
   ]
  },
  {
   "cell_type": "code",
   "execution_count": 32,
   "id": "0db05b66",
   "metadata": {},
   "outputs": [
    {
     "data": {
      "text/plain": [
       "'Brasileira, Argentina, Grelhada, Churrascarias'"
      ]
     },
     "execution_count": 32,
     "metadata": {},
     "output_type": "execute_result"
    }
   ],
   "source": [
    "comida = anuncio.find('div', {'class': 'info cuisine'}).get_text()\n",
    "comida"
   ]
  },
  {
   "cell_type": "code",
   "execution_count": 33,
   "id": "cee5fed5",
   "metadata": {},
   "outputs": [
    {
     "data": {
      "text/plain": [
       "['Brasileira', 'Argentina', 'Grelhada', 'Churrascarias']"
      ]
     },
     "execution_count": 33,
     "metadata": {},
     "output_type": "execute_result"
    }
   ],
   "source": [
    "comida = comida.split(', ')\n",
    "comida"
   ]
  },
  {
   "cell_type": "markdown",
   "id": "089e8e6d",
   "metadata": {},
   "source": [
    "#### <font color=red> Resumo:"
   ]
  },
  {
   "cell_type": "code",
   "execution_count": 34,
   "id": "18d19012",
   "metadata": {},
   "outputs": [],
   "source": [
    "card['comida'] = comida"
   ]
  },
  {
   "cell_type": "markdown",
   "id": "27b41ba6",
   "metadata": {},
   "source": [
    "**Obtendo o <font color=red>VALOR</font> do estabelecimento:**"
   ]
  },
  {
   "cell_type": "code",
   "execution_count": 39,
   "id": "2a4dc427",
   "metadata": {},
   "outputs": [
    {
     "data": {
      "text/plain": [
       "'$$$$'"
      ]
     },
     "execution_count": 39,
     "metadata": {},
     "output_type": "execute_result"
    }
   ],
   "source": [
    "valor = anuncio.find('span', {'class': 'cost'}).get_text()\n",
    "valor"
   ]
  },
  {
   "cell_type": "code",
   "execution_count": 40,
   "id": "2aef4fb6",
   "metadata": {},
   "outputs": [],
   "source": [
    "if valor == '$$$$':\n",
    "    card['valor'] = 'Muito Caro'\n",
    "elif valor == '$$$':\n",
    "    card['valor'] = 'Caro'\n",
    "elif valor == '$$':\n",
    "    card['valor'] = 'Moderado'\n",
    "elif valor == '$':\n",
    "    card['valor'] = 'Barato'\n",
    "else:\n",
    "    card['valor'] = 0"
   ]
  },
  {
   "cell_type": "code",
   "execution_count": 41,
   "id": "e582a3bd",
   "metadata": {},
   "outputs": [
    {
     "data": {
      "text/plain": [
       "{'nome': 'Figueira Rubayat',\n",
       " 'local': ['São Paulo'],\n",
       " 'comida': ['Brasileira', 'Argentina', 'Grelhada', 'Churrascarias'],\n",
       " 'valor': 'Muito Caro'}"
      ]
     },
     "execution_count": 41,
     "metadata": {},
     "output_type": "execute_result"
    }
   ],
   "source": [
    "card"
   ]
  },
  {
   "cell_type": "markdown",
   "id": "51edf7cb",
   "metadata": {},
   "source": [
    "**Obtendo o <font color=red>AVALIAÇÃO</font> do estabelecimento:**"
   ]
  }
 ],
 "metadata": {
  "kernelspec": {
   "display_name": "Python 3 (ipykernel)",
   "language": "python",
   "name": "python3"
  },
  "language_info": {
   "codemirror_mode": {
    "name": "ipython",
    "version": 3
   },
   "file_extension": ".py",
   "mimetype": "text/x-python",
   "name": "python",
   "nbconvert_exporter": "python",
   "pygments_lexer": "ipython3",
   "version": "3.9.12"
  }
 },
 "nbformat": 4,
 "nbformat_minor": 5
}
