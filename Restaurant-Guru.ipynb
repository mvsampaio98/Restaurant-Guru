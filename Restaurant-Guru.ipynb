{
 "cells": [
  {
   "cell_type": "markdown",
   "id": "266b833a",
   "metadata": {},
   "source": [
    "# <font color=green>Restaurant-Guru"
   ]
  },
  {
   "cell_type": "markdown",
   "id": "082ad255",
   "metadata": {},
   "source": [
    "> Este projeto tem como finalidade testar os conhecimentos que obtive completando a formação \"Python para Data Science\" da plataforma Alura. Aqui irei testar meus conhecimentos acerca de Web Scrapping e EDA (Exploratory Data Analysis).\n",
    "\n",
    "<h4>Ideia Central:</h4> \n",
    "\n",
    "> A ideia do projeto é fazer um Web Scrapping do site https://restaurantguru.com.br/ e conseguir extrair informações valiosas por meio da análise de dados, gráficos e etc.\n",
    "\n",
    "<h4>Sobre o site:</h4> \n",
    "\n",
    "> Restaurant Guru é um wiki+metasearch para restaurantes. Eles fornecem aos usuários informações completas sobre restaurantes como: avaliações dos visitantes, cardápios, fotos, etc. O principal objetivo do site é ajudar pessoas a escolherem o lugar certo para comer, seja em sua cidade ou durante sua viagem."
   ]
  },
  {
   "cell_type": "markdown",
   "id": "54dea15a",
   "metadata": {},
   "source": [
    "## <font color=blue>Importando Bibliotecas"
   ]
  },
  {
   "cell_type": "markdown",
   "id": "74c417c6",
   "metadata": {},
   "source": [
    "> Neste passo iremos importar todas as bibliotecas que iremos utilizar nesse projeto"
   ]
  },
  {
   "cell_type": "code",
   "execution_count": 1,
   "id": "ddf6d7db",
   "metadata": {},
   "outputs": [],
   "source": [
    "import pandas as pd\n",
    "import seaborn as sns\n",
    "import matplotlib.pyplot as plt\n",
    "from urllib.request import urlopen, urlretrieve, Request\n",
    "from urllib.error import URLError, HTTPError\n",
    "from bs4 import BeautifulSoup\n",
    "import time"
   ]
  },
  {
   "cell_type": "markdown",
   "id": "1cf75fae",
   "metadata": {},
   "source": [
    "## <font color=blue>Web Scrapping"
   ]
  },
  {
   "cell_type": "markdown",
   "id": "b23931e9",
   "metadata": {},
   "source": [
    "<img src='img/extrair.png'>"
   ]
  },
  {
   "cell_type": "markdown",
   "id": "f5fe556c",
   "metadata": {},
   "source": [
    "A imagem acima mostra os campos que iremos extrair do site. Vamos obter o **nome**, a **localização**, o **tipo de comida**, as **avaliações** e o **valor** de cada restaurante."
   ]
  },
  {
   "cell_type": "markdown",
   "id": "156e9866",
   "metadata": {},
   "source": [
    "#### Configurações básicas - Obtenção de URL"
   ]
  },
  {
   "cell_type": "code",
   "execution_count": 2,
   "id": "8e6805ae",
   "metadata": {},
   "outputs": [],
   "source": [
    "url = 'https://restaurantguru.com.br/restaurant-Brazil-t1'\n",
    "headers = {'user-agent': 'Mozilla/5.0 (Windows NT 10.0; Win64; x64) AppleWebKit/537.36 (KHTML, like Gecko) Chrome/104.0.0.0 Safari/537.36'}\n",
    "\n",
    "req = Request(url, headers = headers)\n",
    "response = urlopen(req)\n",
    "html = response.read()"
   ]
  },
  {
   "cell_type": "markdown",
   "id": "8952555c",
   "metadata": {},
   "source": [
    "#### Configurações básicas - Tratamento do HTML\n",
    "\n"
   ]
  },
  {
   "cell_type": "markdown",
   "id": "5aca69af",
   "metadata": {},
   "source": [
    "> O tipo da variável *html* é **bytes**, executando o comando *html.decode('utf-8')* irei corrigir a acentuação de palavras e converter essa variável para **str**."
   ]
  },
  {
   "cell_type": "code",
   "execution_count": 3,
   "id": "4b37ad16",
   "metadata": {},
   "outputs": [
    {
     "data": {
      "text/plain": [
       "bytes"
      ]
     },
     "execution_count": 3,
     "metadata": {},
     "output_type": "execute_result"
    }
   ],
   "source": [
    "type(html)"
   ]
  },
  {
   "cell_type": "code",
   "execution_count": 4,
   "id": "b347bcbe",
   "metadata": {},
   "outputs": [],
   "source": [
    "html = html.decode('utf-8')"
   ]
  },
  {
   "cell_type": "code",
   "execution_count": 5,
   "id": "3cf87453",
   "metadata": {},
   "outputs": [
    {
     "data": {
      "text/plain": [
       "str"
      ]
     },
     "execution_count": 5,
     "metadata": {},
     "output_type": "execute_result"
    }
   ],
   "source": [
    "type(html)"
   ]
  },
  {
   "cell_type": "markdown",
   "id": "5129040f",
   "metadata": {},
   "source": [
    ">Elaboração de uma função para eliminar os caracteres de tabulação, quebra de linha e espaçamento entre TAGS. Após isso, foi aplicado a variável *html* para ser tratada."
   ]
  },
  {
   "cell_type": "code",
   "execution_count": 6,
   "id": "a055a0f3",
   "metadata": {
    "scrolled": true
   },
   "outputs": [],
   "source": [
    "def trata_html(input):\n",
    "    return \" \".join(html.split()).replace('> <', '><')"
   ]
  },
  {
   "cell_type": "code",
   "execution_count": 7,
   "id": "81d2f352",
   "metadata": {},
   "outputs": [],
   "source": [
    "html = trata_html(html)"
   ]
  },
  {
   "cell_type": "markdown",
   "id": "a0485e59",
   "metadata": {},
   "source": [
    "#### Criando um objeto BeautifulSoup"
   ]
  },
  {
   "cell_type": "code",
   "execution_count": 8,
   "id": "343eb6ec",
   "metadata": {},
   "outputs": [],
   "source": [
    "soup = BeautifulSoup(html, 'html.parser')"
   ]
  },
  {
   "cell_type": "code",
   "execution_count": 9,
   "id": "b58ddb8b",
   "metadata": {},
   "outputs": [
    {
     "data": {
      "text/plain": [
       "bs4.BeautifulSoup"
      ]
     },
     "execution_count": 9,
     "metadata": {},
     "output_type": "execute_result"
    }
   ],
   "source": [
    "type(soup)"
   ]
  },
  {
   "cell_type": "markdown",
   "id": "eb8ff68e",
   "metadata": {},
   "source": [
    "#### Criando variávels para armazenar informações"
   ]
  },
  {
   "cell_type": "code",
   "execution_count": 10,
   "id": "c1f3707e",
   "metadata": {},
   "outputs": [],
   "source": [
    "cards = []\n",
    "card = {}"
   ]
  },
  {
   "cell_type": "markdown",
   "id": "23a91e48",
   "metadata": {},
   "source": [
    "### <font color=#3498DB>Obtendo os dados do primeiro CARD"
   ]
  },
  {
   "cell_type": "code",
   "execution_count": 11,
   "id": "8e2fa889",
   "metadata": {},
   "outputs": [],
   "source": [
    "anuncio = soup.find('div', {'class': 'restaurant_row show'})"
   ]
  },
  {
   "cell_type": "markdown",
   "id": "5b80f831",
   "metadata": {},
   "source": [
    "**Obtendo o <font color=red>NOME</font> do estabelecimento:**"
   ]
  },
  {
   "cell_type": "code",
   "execution_count": 12,
   "id": "753a85ca",
   "metadata": {},
   "outputs": [
    {
     "data": {
      "text/plain": [
       "'Figueira Rubayat / Restaurante, Churrascaria'"
      ]
     },
     "execution_count": 12,
     "metadata": {},
     "output_type": "execute_result"
    }
   ],
   "source": [
    "# Obtendo o título\n",
    "nome = anuncio.find('div', {'class': 'title'}).get_text()\n",
    "nome"
   ]
  },
  {
   "cell_type": "code",
   "execution_count": 13,
   "id": "d4b6586d",
   "metadata": {},
   "outputs": [
    {
     "data": {
      "text/plain": [
       "'Figueira Rubayat'"
      ]
     },
     "execution_count": 13,
     "metadata": {},
     "output_type": "execute_result"
    }
   ],
   "source": [
    "# Removendo o subtítulo\n",
    "nome = nome.split(' /')[0]\n",
    "nome"
   ]
  },
  {
   "cell_type": "code",
   "execution_count": 14,
   "id": "4d38e1cc",
   "metadata": {},
   "outputs": [],
   "source": [
    "card['nome'] = nome"
   ]
  },
  {
   "cell_type": "code",
   "execution_count": 15,
   "id": "366f221d",
   "metadata": {},
   "outputs": [
    {
     "data": {
      "text/plain": [
       "{'nome': 'Figueira Rubayat'}"
      ]
     },
     "execution_count": 15,
     "metadata": {},
     "output_type": "execute_result"
    }
   ],
   "source": [
    "card"
   ]
  },
  {
   "cell_type": "markdown",
   "id": "5f34e0b7",
   "metadata": {},
   "source": [
    "**Obtendo o <font color=red>LOCALIZAÇÃO</font> do estabelecimento:**"
   ]
  },
  {
   "cell_type": "code",
   "execution_count": 16,
   "id": "34a05918",
   "metadata": {},
   "outputs": [
    {
     "data": {
      "text/plain": [
       "'#1 de 153703 lugar para comer em São Paulo'"
      ]
     },
     "execution_count": 16,
     "metadata": {},
     "output_type": "execute_result"
    }
   ],
   "source": [
    "local = anuncio.find('div', {'class': 'number'}).get_text()\n",
    "local"
   ]
  },
  {
   "cell_type": "code",
   "execution_count": 17,
   "id": "627fdf81",
   "metadata": {},
   "outputs": [
    {
     "data": {
      "text/plain": [
       "['#1', 'de', '153703', 'lugar', 'para', 'comer', 'em', 'São', 'Paulo']"
      ]
     },
     "execution_count": 17,
     "metadata": {},
     "output_type": "execute_result"
    }
   ],
   "source": [
    "local = local.split()\n",
    "local"
   ]
  },
  {
   "cell_type": "code",
   "execution_count": 18,
   "id": "2241a76d",
   "metadata": {},
   "outputs": [
    {
     "data": {
      "text/plain": [
       "['São', 'Paulo']"
      ]
     },
     "execution_count": 18,
     "metadata": {},
     "output_type": "execute_result"
    }
   ],
   "source": [
    "local = local[7:]\n",
    "local"
   ]
  },
  {
   "cell_type": "code",
   "execution_count": 19,
   "id": "5e790f05",
   "metadata": {},
   "outputs": [
    {
     "data": {
      "text/plain": [
       "'São Paulo'"
      ]
     },
     "execution_count": 19,
     "metadata": {},
     "output_type": "execute_result"
    }
   ],
   "source": [
    "local = [' '.join(local)]\n",
    "local = str(local).strip(\"'[]'\")\n",
    "local"
   ]
  },
  {
   "cell_type": "code",
   "execution_count": 20,
   "id": "29ae9b84",
   "metadata": {},
   "outputs": [
    {
     "data": {
      "text/plain": [
       "str"
      ]
     },
     "execution_count": 20,
     "metadata": {},
     "output_type": "execute_result"
    }
   ],
   "source": [
    "type(local)"
   ]
  },
  {
   "cell_type": "code",
   "execution_count": 21,
   "id": "8460fbcc",
   "metadata": {},
   "outputs": [],
   "source": [
    "card['local'] = local"
   ]
  },
  {
   "cell_type": "code",
   "execution_count": 22,
   "id": "868c7b58",
   "metadata": {},
   "outputs": [
    {
     "data": {
      "text/plain": [
       "{'nome': 'Figueira Rubayat', 'local': 'São Paulo'}"
      ]
     },
     "execution_count": 22,
     "metadata": {},
     "output_type": "execute_result"
    }
   ],
   "source": [
    "card"
   ]
  },
  {
   "cell_type": "markdown",
   "id": "9a6cd08b",
   "metadata": {},
   "source": [
    "**Obtendo o <font color=red>TIPOS DE COMIDA</font> do estabelecimento:**"
   ]
  },
  {
   "cell_type": "code",
   "execution_count": 23,
   "id": "c2298b6f",
   "metadata": {},
   "outputs": [
    {
     "data": {
      "text/plain": [
       "'Brasileira, Argentina, Grelhada, Churrascarias'"
      ]
     },
     "execution_count": 23,
     "metadata": {},
     "output_type": "execute_result"
    }
   ],
   "source": [
    "comida = anuncio.find('div', {'class': 'info cuisine'}).get_text()\n",
    "comida"
   ]
  },
  {
   "cell_type": "code",
   "execution_count": 24,
   "id": "a348b988",
   "metadata": {},
   "outputs": [
    {
     "data": {
      "text/plain": [
       "['Brasileira', 'Argentina', 'Grelhada', 'Churrascarias']"
      ]
     },
     "execution_count": 24,
     "metadata": {},
     "output_type": "execute_result"
    }
   ],
   "source": [
    "comida = comida.split(', ')\n",
    "comida"
   ]
  },
  {
   "cell_type": "code",
   "execution_count": 25,
   "id": "9f0166a7",
   "metadata": {},
   "outputs": [],
   "source": [
    "card['comida'] = comida"
   ]
  },
  {
   "cell_type": "code",
   "execution_count": 26,
   "id": "bfe6b98a",
   "metadata": {},
   "outputs": [
    {
     "data": {
      "text/plain": [
       "{'nome': 'Figueira Rubayat',\n",
       " 'local': 'São Paulo',\n",
       " 'comida': ['Brasileira', 'Argentina', 'Grelhada', 'Churrascarias']}"
      ]
     },
     "execution_count": 26,
     "metadata": {},
     "output_type": "execute_result"
    }
   ],
   "source": [
    "card"
   ]
  },
  {
   "cell_type": "markdown",
   "id": "3596b1ea",
   "metadata": {},
   "source": [
    "**Obtendo o <font color=red>VALOR</font> do estabelecimento:**"
   ]
  },
  {
   "cell_type": "code",
   "execution_count": 27,
   "id": "6d813d40",
   "metadata": {},
   "outputs": [
    {
     "data": {
      "text/plain": [
       "[<i>$</i>, <i>$</i>, <i>$</i>, <i>$</i>]"
      ]
     },
     "execution_count": 27,
     "metadata": {},
     "output_type": "execute_result"
    }
   ],
   "source": [
    "valor = anuncio.find('span', {'class': 'cost'}).findAll('i')\n",
    "valor"
   ]
  },
  {
   "cell_type": "code",
   "execution_count": 28,
   "id": "83b6c771",
   "metadata": {},
   "outputs": [
    {
     "data": {
      "text/plain": [
       "4"
      ]
     },
     "execution_count": 28,
     "metadata": {},
     "output_type": "execute_result"
    }
   ],
   "source": [
    "valor = len(valor)\n",
    "valor"
   ]
  },
  {
   "cell_type": "code",
   "execution_count": 29,
   "id": "9864366b",
   "metadata": {},
   "outputs": [],
   "source": [
    "if valor == 4:\n",
    "    card['valor'] = 'Muito Caro'\n",
    "elif valor == 3:\n",
    "    card['valor'] = 'Caro'\n",
    "elif valor == 2:\n",
    "    card['valor'] = 'Moderado'\n",
    "elif valor == 1:\n",
    "    card['valor'] = 'Barato'\n",
    "else:\n",
    "    card['valor'] = 0"
   ]
  },
  {
   "cell_type": "code",
   "execution_count": 30,
   "id": "b295b27f",
   "metadata": {},
   "outputs": [
    {
     "data": {
      "text/plain": [
       "{'nome': 'Figueira Rubayat',\n",
       " 'local': 'São Paulo',\n",
       " 'comida': ['Brasileira', 'Argentina', 'Grelhada', 'Churrascarias'],\n",
       " 'valor': 'Muito Caro'}"
      ]
     },
     "execution_count": 30,
     "metadata": {},
     "output_type": "execute_result"
    }
   ],
   "source": [
    "card"
   ]
  },
  {
   "cell_type": "markdown",
   "id": "b962d027",
   "metadata": {},
   "source": [
    "**Obtendo o <font color=red>AVALIAÇÃO</font> do estabelecimento:**"
   ]
  },
  {
   "cell_type": "markdown",
   "id": "201c4288",
   "metadata": {},
   "source": [
    "Não consegui obter ainda a avaliação do estabelecimento."
   ]
  },
  {
   "cell_type": "markdown",
   "id": "1d73a88b",
   "metadata": {},
   "source": [
    "**Criando DataFrame do Primeiro CARD**"
   ]
  },
  {
   "cell_type": "code",
   "execution_count": 31,
   "id": "aed1419a",
   "metadata": {},
   "outputs": [
    {
     "data": {
      "text/plain": [
       "{'nome': 'Figueira Rubayat',\n",
       " 'local': 'São Paulo',\n",
       " 'comida': ['Brasileira', 'Argentina', 'Grelhada', 'Churrascarias'],\n",
       " 'valor': 'Muito Caro'}"
      ]
     },
     "execution_count": 31,
     "metadata": {},
     "output_type": "execute_result"
    }
   ],
   "source": [
    "card"
   ]
  },
  {
   "cell_type": "code",
   "execution_count": 32,
   "id": "eb105862",
   "metadata": {},
   "outputs": [
    {
     "data": {
      "text/html": [
       "<div>\n",
       "<style scoped>\n",
       "    .dataframe tbody tr th:only-of-type {\n",
       "        vertical-align: middle;\n",
       "    }\n",
       "\n",
       "    .dataframe tbody tr th {\n",
       "        vertical-align: top;\n",
       "    }\n",
       "\n",
       "    .dataframe thead th {\n",
       "        text-align: right;\n",
       "    }\n",
       "</style>\n",
       "<table border=\"1\" class=\"dataframe\">\n",
       "  <thead>\n",
       "    <tr style=\"text-align: right;\">\n",
       "      <th></th>\n",
       "      <th>nome</th>\n",
       "      <th>local</th>\n",
       "      <th>comida</th>\n",
       "      <th>valor</th>\n",
       "    </tr>\n",
       "  </thead>\n",
       "  <tbody>\n",
       "    <tr>\n",
       "      <th>0</th>\n",
       "      <td>Figueira Rubayat</td>\n",
       "      <td>São Paulo</td>\n",
       "      <td>[Brasileira, Argentina, Grelhada, Churrascarias]</td>\n",
       "      <td>Muito Caro</td>\n",
       "    </tr>\n",
       "  </tbody>\n",
       "</table>\n",
       "</div>"
      ],
      "text/plain": [
       "               nome      local  \\\n",
       "0  Figueira Rubayat  São Paulo   \n",
       "\n",
       "                                             comida       valor  \n",
       "0  [Brasileira, Argentina, Grelhada, Churrascarias]  Muito Caro  "
      ]
     },
     "execution_count": 32,
     "metadata": {},
     "output_type": "execute_result"
    }
   ],
   "source": [
    "dataset = pd.DataFrame.from_dict(card, orient = 'index').T\n",
    "dataset"
   ]
  },
  {
   "cell_type": "markdown",
   "id": "ee8e118c",
   "metadata": {},
   "source": [
    "### <font color=#3498DB>Obtendo os dados de todos os CARDs da primeira página"
   ]
  },
  {
   "cell_type": "code",
   "execution_count": 33,
   "id": "87d6cd3d",
   "metadata": {},
   "outputs": [],
   "source": [
    "anuncios = soup.find('div', {'class': 'restaurant_container'}).findAll('div', {'class': 'restaurant_row show'})\n",
    "\n",
    "# Coletando informações dos CARDS\n",
    "cards = []\n",
    "for anuncio in anuncios:\n",
    "    card = {}\n",
    "    # Nome\n",
    "    card['nome'] = anuncio.find('div', {'class': 'title'}).get_text().split(' /')[0]\n",
    "\n",
    "    # Local\n",
    "    local = anuncio.find('div',{'class':'number'})\n",
    "    if local == None:\n",
    "        continue\n",
    "    else:\n",
    "        local = local.get_text()\n",
    "        local = local.split()\n",
    "        local = local[7:]\n",
    "        local = [' '.join(local)]\n",
    "        local = str(local).strip(\"'[]'\")\n",
    "    card['local'] = local\n",
    "\n",
    "    # Tipo de Comida\n",
    "    comida = anuncio.find('div', {'class': 'info cuisine'}).get_text()\n",
    "    comida = comida.split(', ')\n",
    "    card['comida'] = comida\n",
    "    \n",
    "    # Valor\n",
    "    valor = anuncio.find('span', {'class': 'cost'}).findAll('i')\n",
    "    valor = len(valor)\n",
    "    if valor == 4:\n",
    "        card['valor'] = 'Muito Caro'\n",
    "    elif valor == 3:\n",
    "        card['valor'] = 'Caro'\n",
    "    elif valor == 2:\n",
    "        card['valor'] = 'Moderado'\n",
    "    elif valor == 1:\n",
    "        card['valor'] = 'Barato'\n",
    "    else:\n",
    "        card['valor'] = 0\n",
    "    \n",
    "    # Adicionando resultado a lista cards\n",
    "    cards.append(card)\n",
    "\n",
    "dataset_p1 = pd.DataFrame(cards)"
   ]
  },
  {
   "cell_type": "code",
   "execution_count": 34,
   "id": "d97678e0",
   "metadata": {
    "scrolled": true
   },
   "outputs": [
    {
     "data": {
      "text/html": [
       "<div>\n",
       "<style scoped>\n",
       "    .dataframe tbody tr th:only-of-type {\n",
       "        vertical-align: middle;\n",
       "    }\n",
       "\n",
       "    .dataframe tbody tr th {\n",
       "        vertical-align: top;\n",
       "    }\n",
       "\n",
       "    .dataframe thead th {\n",
       "        text-align: right;\n",
       "    }\n",
       "</style>\n",
       "<table border=\"1\" class=\"dataframe\">\n",
       "  <thead>\n",
       "    <tr style=\"text-align: right;\">\n",
       "      <th></th>\n",
       "      <th>nome</th>\n",
       "      <th>local</th>\n",
       "      <th>comida</th>\n",
       "      <th>valor</th>\n",
       "    </tr>\n",
       "  </thead>\n",
       "  <tbody>\n",
       "    <tr>\n",
       "      <th>0</th>\n",
       "      <td>Figueira Rubayat</td>\n",
       "      <td>São Paulo</td>\n",
       "      <td>[Brasileira, Argentina, Grelhada, Churrascarias]</td>\n",
       "      <td>Muito Caro</td>\n",
       "    </tr>\n",
       "    <tr>\n",
       "      <th>1</th>\n",
       "      <td>CT Boucherie</td>\n",
       "      <td>Rio de Janeiro</td>\n",
       "      <td>[Francesa, Churrascarias, Opções vegetarianas]</td>\n",
       "      <td>Muito Caro</td>\n",
       "    </tr>\n",
       "    <tr>\n",
       "      <th>2</th>\n",
       "      <td>Tordesilhas</td>\n",
       "      <td>São Paulo</td>\n",
       "      <td>[Brasileira, Opções vegetarianas]</td>\n",
       "      <td>Caro</td>\n",
       "    </tr>\n",
       "    <tr>\n",
       "      <th>3</th>\n",
       "      <td>Oro</td>\n",
       "      <td>Rio de Janeiro</td>\n",
       "      <td>[Brasileira, Opções vegetarianas]</td>\n",
       "      <td>Muito Caro</td>\n",
       "    </tr>\n",
       "    <tr>\n",
       "      <th>4</th>\n",
       "      <td>D.O.M.</td>\n",
       "      <td>São Paulo</td>\n",
       "      <td>[Brasileira, Opções vegetarianas]</td>\n",
       "      <td>Muito Caro</td>\n",
       "    </tr>\n",
       "    <tr>\n",
       "      <th>5</th>\n",
       "      <td>l'atelier du cuisinier</td>\n",
       "      <td>Rio de Janeiro</td>\n",
       "      <td>[Francesa, Opções vegetarianas]</td>\n",
       "      <td>Caro</td>\n",
       "    </tr>\n",
       "    <tr>\n",
       "      <th>6</th>\n",
       "      <td>Fogo de Chão Jardins</td>\n",
       "      <td>São Paulo</td>\n",
       "      <td>[Brasileira, Churrascarias, Grelhada, Opções v...</td>\n",
       "      <td>Muito Caro</td>\n",
       "    </tr>\n",
       "    <tr>\n",
       "      <th>7</th>\n",
       "      <td>L'Etoile Restaurante</td>\n",
       "      <td>Rio de Janeiro</td>\n",
       "      <td>[Francesa, Europeia, Internacional, Opções veg...</td>\n",
       "      <td>Muito Caro</td>\n",
       "    </tr>\n",
       "    <tr>\n",
       "      <th>8</th>\n",
       "      <td>Restaurante Mestiço</td>\n",
       "      <td>São Paulo</td>\n",
       "      <td>[Tailandesa, Opções vegetarianas]</td>\n",
       "      <td>Caro</td>\n",
       "    </tr>\n",
       "    <tr>\n",
       "      <th>9</th>\n",
       "      <td>Rio Scenarium</td>\n",
       "      <td>Rio de Janeiro</td>\n",
       "      <td>[Brasileira, Latino-americana, Sul Americana]</td>\n",
       "      <td>Caro</td>\n",
       "    </tr>\n",
       "    <tr>\n",
       "      <th>10</th>\n",
       "      <td>Varanda Faria Lima</td>\n",
       "      <td>São Paulo</td>\n",
       "      <td>[Grelhada, Churrascarias, Opções vegetarianas]</td>\n",
       "      <td>Muito Caro</td>\n",
       "    </tr>\n",
       "    <tr>\n",
       "      <th>11</th>\n",
       "      <td>Julieta de Serpa</td>\n",
       "      <td>Rio de Janeiro</td>\n",
       "      <td>[Francesa, Bar de Coquetéis, Italiana]</td>\n",
       "      <td>Caro</td>\n",
       "    </tr>\n",
       "    <tr>\n",
       "      <th>12</th>\n",
       "      <td>Ají Com Mel</td>\n",
       "      <td>Campinas</td>\n",
       "      <td>[Peruana, Opções vegetarianas]</td>\n",
       "      <td>Moderado</td>\n",
       "    </tr>\n",
       "    <tr>\n",
       "      <th>13</th>\n",
       "      <td>Mocotó Bar e Restaurante</td>\n",
       "      <td>São Paulo</td>\n",
       "      <td>[Brasileira, Opções vegetarianas]</td>\n",
       "      <td>Moderado</td>\n",
       "    </tr>\n",
       "    <tr>\n",
       "      <th>14</th>\n",
       "      <td>Trattoria Boniatto</td>\n",
       "      <td>Gramado</td>\n",
       "      <td>[Italiana]</td>\n",
       "      <td>Moderado</td>\n",
       "    </tr>\n",
       "    <tr>\n",
       "      <th>15</th>\n",
       "      <td>Astral Beach Food</td>\n",
       "      <td>Arraial do Cabo</td>\n",
       "      <td>[Havaiana, Americana, Japonesa, Sushi, Comida ...</td>\n",
       "      <td>Moderado</td>\n",
       "    </tr>\n",
       "    <tr>\n",
       "      <th>16</th>\n",
       "      <td>Ryo Gastronomia</td>\n",
       "      <td>São Paulo</td>\n",
       "      <td>[Japonesa, Sushi]</td>\n",
       "      <td>Muito Caro</td>\n",
       "    </tr>\n",
       "    <tr>\n",
       "      <th>17</th>\n",
       "      <td>Bistrô Alquimia dos Sabores</td>\n",
       "      <td>Paraty</td>\n",
       "      <td>[Contemporânea, Opções vegetarianas]</td>\n",
       "      <td>Moderado</td>\n",
       "    </tr>\n",
       "    <tr>\n",
       "      <th>18</th>\n",
       "      <td>Casarão Adega Restô</td>\n",
       "      <td>Porto Seguro</td>\n",
       "      <td>[Brasileira, Internacional, Frutos do mar, Opç...</td>\n",
       "      <td>Moderado</td>\n",
       "    </tr>\n",
       "  </tbody>\n",
       "</table>\n",
       "</div>"
      ],
      "text/plain": [
       "                           nome            local  \\\n",
       "0              Figueira Rubayat        São Paulo   \n",
       "1                  CT Boucherie   Rio de Janeiro   \n",
       "2                   Tordesilhas        São Paulo   \n",
       "3                           Oro   Rio de Janeiro   \n",
       "4                        D.O.M.        São Paulo   \n",
       "5        l'atelier du cuisinier   Rio de Janeiro   \n",
       "6          Fogo de Chão Jardins        São Paulo   \n",
       "7          L'Etoile Restaurante   Rio de Janeiro   \n",
       "8           Restaurante Mestiço        São Paulo   \n",
       "9                 Rio Scenarium   Rio de Janeiro   \n",
       "10           Varanda Faria Lima        São Paulo   \n",
       "11             Julieta de Serpa   Rio de Janeiro   \n",
       "12                  Ají Com Mel         Campinas   \n",
       "13     Mocotó Bar e Restaurante        São Paulo   \n",
       "14           Trattoria Boniatto          Gramado   \n",
       "15            Astral Beach Food  Arraial do Cabo   \n",
       "16              Ryo Gastronomia        São Paulo   \n",
       "17  Bistrô Alquimia dos Sabores           Paraty   \n",
       "18          Casarão Adega Restô     Porto Seguro   \n",
       "\n",
       "                                               comida       valor  \n",
       "0    [Brasileira, Argentina, Grelhada, Churrascarias]  Muito Caro  \n",
       "1      [Francesa, Churrascarias, Opções vegetarianas]  Muito Caro  \n",
       "2                   [Brasileira, Opções vegetarianas]        Caro  \n",
       "3                   [Brasileira, Opções vegetarianas]  Muito Caro  \n",
       "4                   [Brasileira, Opções vegetarianas]  Muito Caro  \n",
       "5                     [Francesa, Opções vegetarianas]        Caro  \n",
       "6   [Brasileira, Churrascarias, Grelhada, Opções v...  Muito Caro  \n",
       "7   [Francesa, Europeia, Internacional, Opções veg...  Muito Caro  \n",
       "8                   [Tailandesa, Opções vegetarianas]        Caro  \n",
       "9       [Brasileira, Latino-americana, Sul Americana]        Caro  \n",
       "10     [Grelhada, Churrascarias, Opções vegetarianas]  Muito Caro  \n",
       "11             [Francesa, Bar de Coquetéis, Italiana]        Caro  \n",
       "12                     [Peruana, Opções vegetarianas]    Moderado  \n",
       "13                  [Brasileira, Opções vegetarianas]    Moderado  \n",
       "14                                         [Italiana]    Moderado  \n",
       "15  [Havaiana, Americana, Japonesa, Sushi, Comida ...    Moderado  \n",
       "16                                  [Japonesa, Sushi]  Muito Caro  \n",
       "17               [Contemporânea, Opções vegetarianas]    Moderado  \n",
       "18  [Brasileira, Internacional, Frutos do mar, Opç...    Moderado  "
      ]
     },
     "execution_count": 34,
     "metadata": {},
     "output_type": "execute_result"
    }
   ],
   "source": [
    "dataset_p1"
   ]
  },
  {
   "cell_type": "markdown",
   "id": "dbd1bfa1",
   "metadata": {},
   "source": [
    "### <font color=#3498DB>Obtendo uma quantidade considerável de cards"
   ]
  },
  {
   "cell_type": "code",
   "execution_count": 35,
   "id": "d0c0e0fe",
   "metadata": {},
   "outputs": [],
   "source": [
    "import time\n",
    "cards = []\n",
    "for i in range(1, 10):\n",
    "    url = 'https://restaurantguru.com.br/restaurant-Brazil-t1'+'/'+str(i)\n",
    "    headers = {'user-agent': 'Mozilla/5.0 (Windows NT 10.0; Win64; x64) AppleWebKit/537.36 (KHTML, like Gecko) Chrome/104.0.0.0 Safari/537.36'}\n",
    "\n",
    "    req = Request(url, headers = headers)\n",
    "    response = urlopen(req)\n",
    "    html = response.read().decode('utf-8')\n",
    "    html = trata_html(html)\n",
    "    soup = BeautifulSoup(html, 'html.parser')\n",
    "    \n",
    "    anuncios = soup.find('div', {'class': 'restaurant_container'}).findAll('div', {'class': 'restaurant_row show'})\n",
    "    \n",
    "    for anuncio in anuncios:\n",
    "        card = {}\n",
    "\n",
    "        # Nome\n",
    "        card['nome'] = anuncio.find('div', {'class': 'title'}).get_text().split(' /')[0]\n",
    "\n",
    "        # Local\n",
    "        local = anuncio.find('div', {'class':'number'})\n",
    "        if local == None:\n",
    "            continue\n",
    "        else:\n",
    "            local = local.get_text()\n",
    "            local = local.split()\n",
    "            local = local[7:]\n",
    "            local = [' '.join(local)]\n",
    "            local = str(local).strip(\"'[]'\")\n",
    "        card['local'] = local\n",
    "\n",
    "        # Tipo de Comida\n",
    "        comida = anuncio.find('div',{'class':'info cuisine'})\n",
    "        if comida == None:\n",
    "            continue\n",
    "        else:\n",
    "            comida = comida.get_text()\n",
    "            comida = comida.split(', ')\n",
    "            card['comida'] = comida\n",
    "\n",
    "        # Valor\n",
    "        valor = anuncio.find('span', {'class': 'cost'}).findAll('i')\n",
    "        valor = len(valor)\n",
    "        if valor == 4:\n",
    "            card['valor'] = 'Muito Caro'\n",
    "        elif valor == 3:\n",
    "            card['valor'] = 'Caro'\n",
    "        elif valor == 2:\n",
    "            card['valor'] = 'Moderado'\n",
    "        elif valor == 1:\n",
    "            card['valor'] = 'Barato'\n",
    "        else:\n",
    "            card['valor'] = 0\n",
    "\n",
    "        # Adicionando resultado a lista cards\n",
    "        cards.append(card)\n",
    "    time.sleep(3)\n",
    "dataset = pd.DataFrame(cards)"
   ]
  },
  {
   "cell_type": "markdown",
   "id": "a44e26f1",
   "metadata": {},
   "source": [
    "### <font color=#3498DB>Exportando tabela para um arquivo csv"
   ]
  },
  {
   "cell_type": "code",
   "execution_count": 36,
   "id": "7e880702",
   "metadata": {},
   "outputs": [],
   "source": [
    "dataset.to_csv('restaurantes.csv', index = False)"
   ]
  },
  {
   "cell_type": "code",
   "execution_count": 37,
   "id": "efd5b97c",
   "metadata": {},
   "outputs": [],
   "source": [
    "data = pd.read_csv('restaurantes.csv')"
   ]
  },
  {
   "cell_type": "code",
   "execution_count": 39,
   "id": "4cd24224",
   "metadata": {},
   "outputs": [
    {
     "data": {
      "text/html": [
       "<div>\n",
       "<style scoped>\n",
       "    .dataframe tbody tr th:only-of-type {\n",
       "        vertical-align: middle;\n",
       "    }\n",
       "\n",
       "    .dataframe tbody tr th {\n",
       "        vertical-align: top;\n",
       "    }\n",
       "\n",
       "    .dataframe thead th {\n",
       "        text-align: right;\n",
       "    }\n",
       "</style>\n",
       "<table border=\"1\" class=\"dataframe\">\n",
       "  <thead>\n",
       "    <tr style=\"text-align: right;\">\n",
       "      <th></th>\n",
       "      <th>nome</th>\n",
       "      <th>local</th>\n",
       "      <th>comida</th>\n",
       "      <th>valor</th>\n",
       "    </tr>\n",
       "  </thead>\n",
       "  <tbody>\n",
       "    <tr>\n",
       "      <th>0</th>\n",
       "      <td>Figueira Rubayat</td>\n",
       "      <td>São Paulo</td>\n",
       "      <td>['Brasileira', 'Argentina', 'Grelhada', 'Churr...</td>\n",
       "      <td>Muito Caro</td>\n",
       "    </tr>\n",
       "    <tr>\n",
       "      <th>1</th>\n",
       "      <td>CT Boucherie</td>\n",
       "      <td>Rio de Janeiro</td>\n",
       "      <td>['Francesa', 'Churrascarias', 'Opções vegetari...</td>\n",
       "      <td>Muito Caro</td>\n",
       "    </tr>\n",
       "    <tr>\n",
       "      <th>2</th>\n",
       "      <td>Tordesilhas</td>\n",
       "      <td>São Paulo</td>\n",
       "      <td>['Brasileira', 'Opções vegetarianas']</td>\n",
       "      <td>Caro</td>\n",
       "    </tr>\n",
       "    <tr>\n",
       "      <th>3</th>\n",
       "      <td>Oro</td>\n",
       "      <td>Rio de Janeiro</td>\n",
       "      <td>['Brasileira', 'Opções vegetarianas']</td>\n",
       "      <td>Muito Caro</td>\n",
       "    </tr>\n",
       "    <tr>\n",
       "      <th>4</th>\n",
       "      <td>D.O.M.</td>\n",
       "      <td>São Paulo</td>\n",
       "      <td>['Brasileira', 'Opções vegetarianas']</td>\n",
       "      <td>Muito Caro</td>\n",
       "    </tr>\n",
       "    <tr>\n",
       "      <th>...</th>\n",
       "      <td>...</td>\n",
       "      <td>...</td>\n",
       "      <td>...</td>\n",
       "      <td>...</td>\n",
       "    </tr>\n",
       "    <tr>\n",
       "      <th>163</th>\n",
       "      <td>Balcone Restô</td>\n",
       "      <td>Fortaleza</td>\n",
       "      <td>['Pizza', 'Italiana', 'Frutos do mar', 'Opções...</td>\n",
       "      <td>Moderado</td>\n",
       "    </tr>\n",
       "    <tr>\n",
       "      <th>164</th>\n",
       "      <td>Casa Vilharquide</td>\n",
       "      <td>Paraguaçu Paulista</td>\n",
       "      <td>['Brasileira', 'Europeia', 'Alemã', 'Portugues...</td>\n",
       "      <td>Moderado</td>\n",
       "    </tr>\n",
       "    <tr>\n",
       "      <th>165</th>\n",
       "      <td>Basílico Cozinha Artesanal</td>\n",
       "      <td>Amparo</td>\n",
       "      <td>['Italiana']</td>\n",
       "      <td>Moderado</td>\n",
       "    </tr>\n",
       "    <tr>\n",
       "      <th>166</th>\n",
       "      <td>Dopo Lavoro Cantina Italiana</td>\n",
       "      <td>São Paulo</td>\n",
       "      <td>['Italiana']</td>\n",
       "      <td>Moderado</td>\n",
       "    </tr>\n",
       "    <tr>\n",
       "      <th>167</th>\n",
       "      <td>Coco Bambu Osasco</td>\n",
       "      <td>Osasco</td>\n",
       "      <td>['Frutos do mar', 'Brasileira', 'Contemporânea...</td>\n",
       "      <td>Caro</td>\n",
       "    </tr>\n",
       "  </tbody>\n",
       "</table>\n",
       "<p>168 rows × 4 columns</p>\n",
       "</div>"
      ],
      "text/plain": [
       "                             nome               local  \\\n",
       "0                Figueira Rubayat           São Paulo   \n",
       "1                    CT Boucherie      Rio de Janeiro   \n",
       "2                     Tordesilhas           São Paulo   \n",
       "3                             Oro      Rio de Janeiro   \n",
       "4                          D.O.M.           São Paulo   \n",
       "..                            ...                 ...   \n",
       "163                 Balcone Restô           Fortaleza   \n",
       "164              Casa Vilharquide  Paraguaçu Paulista   \n",
       "165    Basílico Cozinha Artesanal              Amparo   \n",
       "166  Dopo Lavoro Cantina Italiana           São Paulo   \n",
       "167             Coco Bambu Osasco              Osasco   \n",
       "\n",
       "                                                comida       valor  \n",
       "0    ['Brasileira', 'Argentina', 'Grelhada', 'Churr...  Muito Caro  \n",
       "1    ['Francesa', 'Churrascarias', 'Opções vegetari...  Muito Caro  \n",
       "2                ['Brasileira', 'Opções vegetarianas']        Caro  \n",
       "3                ['Brasileira', 'Opções vegetarianas']  Muito Caro  \n",
       "4                ['Brasileira', 'Opções vegetarianas']  Muito Caro  \n",
       "..                                                 ...         ...  \n",
       "163  ['Pizza', 'Italiana', 'Frutos do mar', 'Opções...    Moderado  \n",
       "164  ['Brasileira', 'Europeia', 'Alemã', 'Portugues...    Moderado  \n",
       "165                                       ['Italiana']    Moderado  \n",
       "166                                       ['Italiana']    Moderado  \n",
       "167  ['Frutos do mar', 'Brasileira', 'Contemporânea...        Caro  \n",
       "\n",
       "[168 rows x 4 columns]"
      ]
     },
     "execution_count": 39,
     "metadata": {},
     "output_type": "execute_result"
    }
   ],
   "source": [
    "data"
   ]
  }
 ],
 "metadata": {
  "kernelspec": {
   "display_name": "Python 3 (ipykernel)",
   "language": "python",
   "name": "python3"
  },
  "language_info": {
   "codemirror_mode": {
    "name": "ipython",
    "version": 3
   },
   "file_extension": ".py",
   "mimetype": "text/x-python",
   "name": "python",
   "nbconvert_exporter": "python",
   "pygments_lexer": "ipython3",
   "version": "3.9.12"
  }
 },
 "nbformat": 4,
 "nbformat_minor": 5
}
